{
 "cells": [
  {
   "cell_type": "code",
   "execution_count": 1,
   "id": "1e8f42b0-f7f2-4745-a339-042f93fb8bf4",
   "metadata": {},
   "outputs": [],
   "source": [
    "#q1 we have to Inherit the exception class as when we create our custom exception handling , we want to include all the general exceptions as well.\n"
   ]
  },
  {
   "cell_type": "code",
   "execution_count": 2,
   "id": "b184f9a4-5731-41a0-b082-03866058126b",
   "metadata": {},
   "outputs": [],
   "source": [
    "#q2"
   ]
  },
  {
   "cell_type": "code",
   "execution_count": 3,
   "id": "7692186c-a71d-4bec-9fe8-c6e44d5193c9",
   "metadata": {},
   "outputs": [],
   "source": [
    "#q3  ArithmeticError is simply an error that occurs during numeric calculations. ArithmeticError types in Python include: OverFlowError(aised when an arithmetic operation exceeds the limits to be represented.). ZeroDivisionError(10/0). FloatingPointError."
   ]
  },
  {
   "cell_type": "code",
   "execution_count": 4,
   "id": "2739d698-8e37-4a72-bd54-a3dc10dc2a7e",
   "metadata": {},
   "outputs": [],
   "source": [
    "#q4 The LookupError exception in Python forms the base class for all exceptions that are raised when an index or a key is not found for a sequence or dictionary respectively.\n",
    "\n"
   ]
  },
  {
   "cell_type": "code",
   "execution_count": 5,
   "id": "fc2a09e9-4d99-406e-9695-ddfe4b7006e0",
   "metadata": {},
   "outputs": [],
   "source": [
    "#q5 import error occurs if we try to import a library which does not exist\n",
    "#The 'module not found' error is a syntax error that appears when the static import statement cannot find the file at the declared path. This common syntax error is caused by letter-casing inconsistencies that are present in your filename(s) between your repository and local machine, or both."
   ]
  },
  {
   "cell_type": "code",
   "execution_count": null,
   "id": "fdaea81a-a45c-43da-96fd-e6d54579e021",
   "metadata": {},
   "outputs": [],
   "source": [
    "#q6 \n",
    "#use always a specific exception\n",
    "#log all your exceptions\n",
    "#do not use multiple "
   ]
  }
 ],
 "metadata": {
  "kernelspec": {
   "display_name": "Python 3 (ipykernel)",
   "language": "python",
   "name": "python3"
  },
  "language_info": {
   "codemirror_mode": {
    "name": "ipython",
    "version": 3
   },
   "file_extension": ".py",
   "mimetype": "text/x-python",
   "name": "python",
   "nbconvert_exporter": "python",
   "pygments_lexer": "ipython3",
   "version": "3.10.8"
  }
 },
 "nbformat": 4,
 "nbformat_minor": 5
}
