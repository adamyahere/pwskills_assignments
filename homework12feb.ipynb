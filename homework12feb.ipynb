{
 "cells": [
  {
   "cell_type": "code",
   "execution_count": 1,
   "id": "9b931f42-4f67-459b-8489-6680c81be7c5",
   "metadata": {},
   "outputs": [],
   "source": [
    "#q1  An exception is an event, which occurs during the execution of a program that disrupts the normal flow of the program'sinstructions. In general, when a Python script encounters a situation that it cannot cope with, it raises an exception. An exception is a Python object that represents an erro\n",
    "# The syntax error exception occurs when the code does not conform to Python keywords, naming style, or programming structure\n",
    "\n",
    "\n"
   ]
  },
  {
   "cell_type": "code",
   "execution_count": 2,
   "id": "58142b30-6e51-4389-b3c9-40c7ef171416",
   "metadata": {},
   "outputs": [],
   "source": [
    "#q2 The program will be crashed midway and the error message will be printed."
   ]
  },
  {
   "cell_type": "code",
   "execution_count": 3,
   "id": "d626b32b-03e9-4eda-b3ab-2c2a761bd3fa",
   "metadata": {},
   "outputs": [],
   "source": [
    "#q3 the python statements try, except , finally , else are used yo handle an exception.\n"
   ]
  },
  {
   "cell_type": "code",
   "execution_count": 4,
   "id": "a29b1f76-354e-49cb-b8c0-c74e00902539",
   "metadata": {},
   "outputs": [],
   "source": [
    "#q4 the try is use to wirte a program under it which is to be checked for an error else is executed and else statement is excuted when a try staement fails\n",
    "# finally statement is used in exception handling and is executed inspite of the exception is caught or not.\n",
    "# rasise is a keyword which is used in custom exception handling and is the exception raised when a error occurs.\n",
    "\n"
   ]
  },
  {
   "cell_type": "code",
   "execution_count": 5,
   "id": "5071f33f-126d-4e04-8702-b07a4b93f3fd",
   "metadata": {},
   "outputs": [],
   "source": [
    "#q5 custom exceptions on pyhton are the user defined exceptions and are executed with help of raise."
   ]
  },
  {
   "cell_type": "code",
   "execution_count": 6,
   "id": "1955c427-35ba-4248-84db-00cb9b36f2d1",
   "metadata": {},
   "outputs": [],
   "source": [
    "#q6custom exception\n",
    "class validate_height(Exception):\n",
    "    \n",
    "    def __intit__(self,msg):\n",
    "        self.msg = msg"
   ]
  },
  {
   "cell_type": "code",
   "execution_count": 8,
   "id": "880f84de-8c18-4113-94eb-5c542692d0f9",
   "metadata": {},
   "outputs": [],
   "source": [
    "def vheight(height):\n",
    "    if heigth <120:\n",
    "        raise validate_height('You are small to go on this ride')\n",
    "    elif height> 240:\n",
    "        raise validate_height(\"You are much taller to be allowed to go to ride\")\n",
    "    else:\n",
    "        print(\"you heigt is fine\")"
   ]
  },
  {
   "cell_type": "code",
   "execution_count": 10,
   "id": "ff4fd7f1-5925-4c10-8fe6-c418d1490c8b",
   "metadata": {},
   "outputs": [
    {
     "name": "stdin",
     "output_type": "stream",
     "text": [
      "tell me height 20\n"
     ]
    }
   ],
   "source": [
    "try: \n",
    "    height = int(input(\"tell me height\"))\n",
    "    validate_height(height)\n",
    "except validate_height as e:\n",
    "    print(e)"
   ]
  },
  {
   "cell_type": "code",
   "execution_count": null,
   "id": "51f3b442-7c6e-4702-8586-a97608058426",
   "metadata": {},
   "outputs": [],
   "source": []
  }
 ],
 "metadata": {
  "kernelspec": {
   "display_name": "Python 3 (ipykernel)",
   "language": "python",
   "name": "python3"
  },
  "language_info": {
   "codemirror_mode": {
    "name": "ipython",
    "version": 3
   },
   "file_extension": ".py",
   "mimetype": "text/x-python",
   "name": "python",
   "nbconvert_exporter": "python",
   "pygments_lexer": "ipython3",
   "version": "3.10.8"
  }
 },
 "nbformat": 4,
 "nbformat_minor": 5
}
